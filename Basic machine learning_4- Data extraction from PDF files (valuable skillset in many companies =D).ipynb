{
 "cells": [
  {
   "cell_type": "markdown",
   "metadata": {},
   "source": [
    "# Basic machine learning_4: Data parsing from PDF files (important skillset in companies today =D)"
   ]
  },
  {
   "cell_type": "code",
   "execution_count": 1,
   "metadata": {},
   "outputs": [
    {
     "name": "stdout",
     "output_type": "stream",
     "text": [
      "International Conference on Soft Computing and Machine Learning (SCML2019) \n",
      "\n",
      "April 26th-29th, 2019, Wuhan, China \n",
      "\n",
      "Part I Conference Schedule   \n",
      "\n",
      "Friday, April 26th, 2019   \n",
      "\n",
      "Time \n",
      "\n",
      "Activity \n",
      "\n",
      "Location \n",
      "\n",
      "08:00-18:00  Registration \n",
      "\n",
      "International Academic Exchange Center in HUST \n",
      "\n",
      "(华中科技大学国际学术交流中心) \n",
      "\n",
      " \n",
      "Notes: Please take Participating Card during the conference. \n",
      "\n",
      " \n",
      "\n",
      " \n",
      "\n",
      " \n",
      "\n",
      " \n",
      "\n",
      " \n",
      "\n",
      " \n",
      "\n",
      "2 \n",
      "\n",
      "\f",
      "\n"
     ]
    }
   ],
   "source": [
    "# Reading in relevant libraries from python\n",
    "from io import StringIO\n",
    "from pdfminer.pdfinterp import PDFResourceManager, PDFPageInterpreter\n",
    "from pdfminer.converter import TextConverter\n",
    "from pdfminer.layout import LAParams\n",
    "from pdfminer.pdfpage import PDFPage\n",
    "import os\n",
    "import sys, getopt\n",
    "import numpy as np \n",
    "import pandas as pd\n",
    "\n",
    "# creating function to converts PDF file and returns its text content as a string\n",
    "def convert(file_name, pages):\n",
    "    if not pages:\n",
    "        pagenums = set()\n",
    "    else:\n",
    "        pagenums = set(pages)\n",
    "\n",
    "    OUTPUT = StringIO()\n",
    "    MANAGER = PDFResourceManager()\n",
    "    CONVERTER = TextConverter(MANAGER, OUTPUT, laparams=LAParams())\n",
    "    INTERPRETER = PDFPageInterpreter(MANAGER, CONVERTER)\n",
    "\n",
    "    PDF_FILE = open(file_name, 'rb')\n",
    "    for page in PDFPage.get_pages(PDF_FILE, pagenums):\n",
    "        INTERPRETER.process_page(page)\n",
    "    PDF_FILE.close()\n",
    "    CONVERTER.close()\n",
    "    text_parsed = OUTPUT.getvalue()\n",
    "    OUTPUT.close\n",
    "    return text_parsed \n",
    "\n",
    "# Call function \n",
    "extracted_text= convert('dummy_file.pdf', pages=[1])\n",
    "print(extracted_text)\n",
    " \n",
    "# DATA CLEANING OF EXTRACTED_TEXT IN NEXT CODE -> KEEP A LOOKOUT :))"
   ]
  }
 ],
 "metadata": {
  "kernelspec": {
   "display_name": "Python 3",
   "language": "python",
   "name": "python3"
  },
  "language_info": {
   "codemirror_mode": {
    "name": "ipython",
    "version": 3
   },
   "file_extension": ".py",
   "mimetype": "text/x-python",
   "name": "python",
   "nbconvert_exporter": "python",
   "pygments_lexer": "ipython3",
   "version": "3.7.1"
  }
 },
 "nbformat": 4,
 "nbformat_minor": 2
}
